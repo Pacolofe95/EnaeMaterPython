{
  "nbformat": 4,
  "nbformat_minor": 0,
  "metadata": {
    "colab": {
      "provenance": [],
      "authorship_tag": "ABX9TyPIMSL66KsfB5BcSKXMdfvP",
      "include_colab_link": true
    },
    "kernelspec": {
      "name": "python3",
      "display_name": "Python 3"
    },
    "language_info": {
      "name": "python"
    }
  },
  "cells": [
    {
      "cell_type": "markdown",
      "metadata": {
        "id": "view-in-github",
        "colab_type": "text"
      },
      "source": [
        "<a href=\"https://colab.research.google.com/github/Pacolofe95/EnaeMaterPython/blob/main/Modulo1.ipynb\" target=\"_parent\"><img src=\"https://colab.research.google.com/assets/colab-badge.svg\" alt=\"Open In Colab\"/></a>"
      ]
    },
    {
      "cell_type": "code",
      "execution_count": null,
      "metadata": {
        "id": "VCBVXrB57R2U"
      },
      "outputs": [],
      "source": [
        "for i in range(1,74):\n",
        "  print(\"hola mundo, posición: \", i)\n"
      ]
    },
    {
      "cell_type": "code",
      "source": [
        "a = 1 \n",
        "b = 1 \n",
        "c = 0\n",
        "\n",
        "lstFibonacci = [a,b]\n",
        "valor73 =  0\n",
        "for value in range (1,72):\n",
        "  c = a + b\n",
        "  a = b\n",
        "  b = c \n",
        "  lstFibonacci.append(c)\n",
        "  valor73 = c\n",
        "print (\"El valor 73 será: \", c)\n",
        "print(lstFibonacci) "
      ],
      "metadata": {
        "id": "qnxIkGuc7j6m"
      },
      "execution_count": null,
      "outputs": []
    },
    {
      "cell_type": "code",
      "source": [
        "import numpy as np \n",
        "x= np.linspace (0,4,201)\n",
        "print (x)"
      ],
      "metadata": {
        "colab": {
          "base_uri": "https://localhost:8080/"
        },
        "id": "HaWdkakz_n3z",
        "outputId": "2d534ae2-65cd-4669-c009-fd89ec5a5f6e"
      },
      "execution_count": 25,
      "outputs": [
        {
          "output_type": "stream",
          "name": "stdout",
          "text": [
            "[0.   0.02 0.04 0.06 0.08 0.1  0.12 0.14 0.16 0.18 0.2  0.22 0.24 0.26\n",
            " 0.28 0.3  0.32 0.34 0.36 0.38 0.4  0.42 0.44 0.46 0.48 0.5  0.52 0.54\n",
            " 0.56 0.58 0.6  0.62 0.64 0.66 0.68 0.7  0.72 0.74 0.76 0.78 0.8  0.82\n",
            " 0.84 0.86 0.88 0.9  0.92 0.94 0.96 0.98 1.   1.02 1.04 1.06 1.08 1.1\n",
            " 1.12 1.14 1.16 1.18 1.2  1.22 1.24 1.26 1.28 1.3  1.32 1.34 1.36 1.38\n",
            " 1.4  1.42 1.44 1.46 1.48 1.5  1.52 1.54 1.56 1.58 1.6  1.62 1.64 1.66\n",
            " 1.68 1.7  1.72 1.74 1.76 1.78 1.8  1.82 1.84 1.86 1.88 1.9  1.92 1.94\n",
            " 1.96 1.98 2.   2.02 2.04 2.06 2.08 2.1  2.12 2.14 2.16 2.18 2.2  2.22\n",
            " 2.24 2.26 2.28 2.3  2.32 2.34 2.36 2.38 2.4  2.42 2.44 2.46 2.48 2.5\n",
            " 2.52 2.54 2.56 2.58 2.6  2.62 2.64 2.66 2.68 2.7  2.72 2.74 2.76 2.78\n",
            " 2.8  2.82 2.84 2.86 2.88 2.9  2.92 2.94 2.96 2.98 3.   3.02 3.04 3.06\n",
            " 3.08 3.1  3.12 3.14 3.16 3.18 3.2  3.22 3.24 3.26 3.28 3.3  3.32 3.34\n",
            " 3.36 3.38 3.4  3.42 3.44 3.46 3.48 3.5  3.52 3.54 3.56 3.58 3.6  3.62\n",
            " 3.64 3.66 3.68 3.7  3.72 3.74 3.76 3.78 3.8  3.82 3.84 3.86 3.88 3.9\n",
            " 3.92 3.94 3.96 3.98 4.  ]\n"
          ]
        }
      ]
    },
    {
      "cell_type": "code",
      "source": [
        "import pandas as pd\n",
        "import numpy as np\n",
        "col1 = np.linspace(0, 4, 201)\n",
        "df = pd.DataFrame(col1, columns=['t'])\n",
        "df['s'] = df['t'].apply(np.sin)\n",
        "print(df)\n"
      ],
      "metadata": {
        "colab": {
          "base_uri": "https://localhost:8080/"
        },
        "id": "U4kHtHnB9Ll_",
        "outputId": "d7fa6bd8-0423-4601-fc41-6a9ab4a74cf1"
      },
      "execution_count": 29,
      "outputs": [
        {
          "output_type": "stream",
          "name": "stdout",
          "text": [
            "        t         s\n",
            "0    0.00  0.000000\n",
            "1    0.02  0.019999\n",
            "2    0.04  0.039989\n",
            "3    0.06  0.059964\n",
            "4    0.08  0.079915\n",
            "..    ...       ...\n",
            "196  3.92 -0.702146\n",
            "197  3.94 -0.716246\n",
            "198  3.96 -0.730058\n",
            "199  3.98 -0.743579\n",
            "200  4.00 -0.756802\n",
            "\n",
            "[201 rows x 2 columns]\n"
          ]
        }
      ]
    },
    {
      "cell_type": "code",
      "source": [
        "df [\"s10\"] = df[\"s\"].shift(10)\n",
        "print(df.head(10))\n"
      ],
      "metadata": {
        "colab": {
          "base_uri": "https://localhost:8080/"
        },
        "id": "FpLwB8aU9eKA",
        "outputId": "776d4aaf-a158-46bb-b9a8-19a8bd5614f8"
      },
      "execution_count": 30,
      "outputs": [
        {
          "output_type": "stream",
          "name": "stdout",
          "text": [
            "      t         s  s10\n",
            "0  0.00  0.000000  NaN\n",
            "1  0.02  0.019999  NaN\n",
            "2  0.04  0.039989  NaN\n",
            "3  0.06  0.059964  NaN\n",
            "4  0.08  0.079915  NaN\n",
            "5  0.10  0.099833  NaN\n",
            "6  0.12  0.119712  NaN\n",
            "7  0.14  0.139543  NaN\n",
            "8  0.16  0.159318  NaN\n",
            "9  0.18  0.179030  NaN\n"
          ]
        }
      ]
    },
    {
      "cell_type": "code",
      "source": [
        "df [\"d\"] = df [\"s\"] - df [\"s10\"]\n",
        "print (df)"
      ],
      "metadata": {
        "colab": {
          "base_uri": "https://localhost:8080/"
        },
        "id": "rfuGRxS7-CpD",
        "outputId": "52c3ae88-ca4a-4411-b2cb-65d0cd3ed994"
      },
      "execution_count": 31,
      "outputs": [
        {
          "output_type": "stream",
          "name": "stdout",
          "text": [
            "        t         s       s10         d\n",
            "0    0.00  0.000000       NaN       NaN\n",
            "1    0.02  0.019999       NaN       NaN\n",
            "2    0.04  0.039989       NaN       NaN\n",
            "3    0.06  0.059964       NaN       NaN\n",
            "4    0.08  0.079915       NaN       NaN\n",
            "..    ...       ...       ...       ...\n",
            "196  3.92 -0.702146 -0.546691 -0.155455\n",
            "197  3.94 -0.716246 -0.563327 -0.152918\n",
            "198  3.96 -0.730058 -0.579738 -0.150320\n",
            "199  3.98 -0.743579 -0.595917 -0.147662\n",
            "200  4.00 -0.756802 -0.611858 -0.144945\n",
            "\n",
            "[201 rows x 4 columns]\n"
          ]
        }
      ]
    },
    {
      "cell_type": "code",
      "source": [
        "def is_positive(x):\n",
        "  if x> 0:\n",
        "    return 1\n",
        "  else:\n",
        "    return 0\n",
        "\n",
        "df['p'] = df['d'].apply(lambda x: is_positive(x)) \n",
        "df"
      ],
      "metadata": {
        "colab": {
          "base_uri": "https://localhost:8080/",
          "height": 424
        },
        "id": "bOGnyS3T-Flv",
        "outputId": "bccb03b9-0852-4dbf-88ff-449022cc3aa6"
      },
      "execution_count": 32,
      "outputs": [
        {
          "output_type": "execute_result",
          "data": {
            "text/plain": [
              "        t         s       s10         d  p\n",
              "0    0.00  0.000000       NaN       NaN  0\n",
              "1    0.02  0.019999       NaN       NaN  0\n",
              "2    0.04  0.039989       NaN       NaN  0\n",
              "3    0.06  0.059964       NaN       NaN  0\n",
              "4    0.08  0.079915       NaN       NaN  0\n",
              "..    ...       ...       ...       ... ..\n",
              "196  3.92 -0.702146 -0.546691 -0.155455  0\n",
              "197  3.94 -0.716246 -0.563327 -0.152918  0\n",
              "198  3.96 -0.730058 -0.579738 -0.150320  0\n",
              "199  3.98 -0.743579 -0.595917 -0.147662  0\n",
              "200  4.00 -0.756802 -0.611858 -0.144945  0\n",
              "\n",
              "[201 rows x 5 columns]"
            ],
            "text/html": [
              "\n",
              "  <div id=\"df-4a9a804b-2ae0-44ad-be24-99d02e976095\">\n",
              "    <div class=\"colab-df-container\">\n",
              "      <div>\n",
              "<style scoped>\n",
              "    .dataframe tbody tr th:only-of-type {\n",
              "        vertical-align: middle;\n",
              "    }\n",
              "\n",
              "    .dataframe tbody tr th {\n",
              "        vertical-align: top;\n",
              "    }\n",
              "\n",
              "    .dataframe thead th {\n",
              "        text-align: right;\n",
              "    }\n",
              "</style>\n",
              "<table border=\"1\" class=\"dataframe\">\n",
              "  <thead>\n",
              "    <tr style=\"text-align: right;\">\n",
              "      <th></th>\n",
              "      <th>t</th>\n",
              "      <th>s</th>\n",
              "      <th>s10</th>\n",
              "      <th>d</th>\n",
              "      <th>p</th>\n",
              "    </tr>\n",
              "  </thead>\n",
              "  <tbody>\n",
              "    <tr>\n",
              "      <th>0</th>\n",
              "      <td>0.00</td>\n",
              "      <td>0.000000</td>\n",
              "      <td>NaN</td>\n",
              "      <td>NaN</td>\n",
              "      <td>0</td>\n",
              "    </tr>\n",
              "    <tr>\n",
              "      <th>1</th>\n",
              "      <td>0.02</td>\n",
              "      <td>0.019999</td>\n",
              "      <td>NaN</td>\n",
              "      <td>NaN</td>\n",
              "      <td>0</td>\n",
              "    </tr>\n",
              "    <tr>\n",
              "      <th>2</th>\n",
              "      <td>0.04</td>\n",
              "      <td>0.039989</td>\n",
              "      <td>NaN</td>\n",
              "      <td>NaN</td>\n",
              "      <td>0</td>\n",
              "    </tr>\n",
              "    <tr>\n",
              "      <th>3</th>\n",
              "      <td>0.06</td>\n",
              "      <td>0.059964</td>\n",
              "      <td>NaN</td>\n",
              "      <td>NaN</td>\n",
              "      <td>0</td>\n",
              "    </tr>\n",
              "    <tr>\n",
              "      <th>4</th>\n",
              "      <td>0.08</td>\n",
              "      <td>0.079915</td>\n",
              "      <td>NaN</td>\n",
              "      <td>NaN</td>\n",
              "      <td>0</td>\n",
              "    </tr>\n",
              "    <tr>\n",
              "      <th>...</th>\n",
              "      <td>...</td>\n",
              "      <td>...</td>\n",
              "      <td>...</td>\n",
              "      <td>...</td>\n",
              "      <td>...</td>\n",
              "    </tr>\n",
              "    <tr>\n",
              "      <th>196</th>\n",
              "      <td>3.92</td>\n",
              "      <td>-0.702146</td>\n",
              "      <td>-0.546691</td>\n",
              "      <td>-0.155455</td>\n",
              "      <td>0</td>\n",
              "    </tr>\n",
              "    <tr>\n",
              "      <th>197</th>\n",
              "      <td>3.94</td>\n",
              "      <td>-0.716246</td>\n",
              "      <td>-0.563327</td>\n",
              "      <td>-0.152918</td>\n",
              "      <td>0</td>\n",
              "    </tr>\n",
              "    <tr>\n",
              "      <th>198</th>\n",
              "      <td>3.96</td>\n",
              "      <td>-0.730058</td>\n",
              "      <td>-0.579738</td>\n",
              "      <td>-0.150320</td>\n",
              "      <td>0</td>\n",
              "    </tr>\n",
              "    <tr>\n",
              "      <th>199</th>\n",
              "      <td>3.98</td>\n",
              "      <td>-0.743579</td>\n",
              "      <td>-0.595917</td>\n",
              "      <td>-0.147662</td>\n",
              "      <td>0</td>\n",
              "    </tr>\n",
              "    <tr>\n",
              "      <th>200</th>\n",
              "      <td>4.00</td>\n",
              "      <td>-0.756802</td>\n",
              "      <td>-0.611858</td>\n",
              "      <td>-0.144945</td>\n",
              "      <td>0</td>\n",
              "    </tr>\n",
              "  </tbody>\n",
              "</table>\n",
              "<p>201 rows × 5 columns</p>\n",
              "</div>\n",
              "      <button class=\"colab-df-convert\" onclick=\"convertToInteractive('df-4a9a804b-2ae0-44ad-be24-99d02e976095')\"\n",
              "              title=\"Convert this dataframe to an interactive table.\"\n",
              "              style=\"display:none;\">\n",
              "        \n",
              "  <svg xmlns=\"http://www.w3.org/2000/svg\" height=\"24px\"viewBox=\"0 0 24 24\"\n",
              "       width=\"24px\">\n",
              "    <path d=\"M0 0h24v24H0V0z\" fill=\"none\"/>\n",
              "    <path d=\"M18.56 5.44l.94 2.06.94-2.06 2.06-.94-2.06-.94-.94-2.06-.94 2.06-2.06.94zm-11 1L8.5 8.5l.94-2.06 2.06-.94-2.06-.94L8.5 2.5l-.94 2.06-2.06.94zm10 10l.94 2.06.94-2.06 2.06-.94-2.06-.94-.94-2.06-.94 2.06-2.06.94z\"/><path d=\"M17.41 7.96l-1.37-1.37c-.4-.4-.92-.59-1.43-.59-.52 0-1.04.2-1.43.59L10.3 9.45l-7.72 7.72c-.78.78-.78 2.05 0 2.83L4 21.41c.39.39.9.59 1.41.59.51 0 1.02-.2 1.41-.59l7.78-7.78 2.81-2.81c.8-.78.8-2.07 0-2.86zM5.41 20L4 18.59l7.72-7.72 1.47 1.35L5.41 20z\"/>\n",
              "  </svg>\n",
              "      </button>\n",
              "      \n",
              "  <style>\n",
              "    .colab-df-container {\n",
              "      display:flex;\n",
              "      flex-wrap:wrap;\n",
              "      gap: 12px;\n",
              "    }\n",
              "\n",
              "    .colab-df-convert {\n",
              "      background-color: #E8F0FE;\n",
              "      border: none;\n",
              "      border-radius: 50%;\n",
              "      cursor: pointer;\n",
              "      display: none;\n",
              "      fill: #1967D2;\n",
              "      height: 32px;\n",
              "      padding: 0 0 0 0;\n",
              "      width: 32px;\n",
              "    }\n",
              "\n",
              "    .colab-df-convert:hover {\n",
              "      background-color: #E2EBFA;\n",
              "      box-shadow: 0px 1px 2px rgba(60, 64, 67, 0.3), 0px 1px 3px 1px rgba(60, 64, 67, 0.15);\n",
              "      fill: #174EA6;\n",
              "    }\n",
              "\n",
              "    [theme=dark] .colab-df-convert {\n",
              "      background-color: #3B4455;\n",
              "      fill: #D2E3FC;\n",
              "    }\n",
              "\n",
              "    [theme=dark] .colab-df-convert:hover {\n",
              "      background-color: #434B5C;\n",
              "      box-shadow: 0px 1px 3px 1px rgba(0, 0, 0, 0.15);\n",
              "      filter: drop-shadow(0px 1px 2px rgba(0, 0, 0, 0.3));\n",
              "      fill: #FFFFFF;\n",
              "    }\n",
              "  </style>\n",
              "\n",
              "      <script>\n",
              "        const buttonEl =\n",
              "          document.querySelector('#df-4a9a804b-2ae0-44ad-be24-99d02e976095 button.colab-df-convert');\n",
              "        buttonEl.style.display =\n",
              "          google.colab.kernel.accessAllowed ? 'block' : 'none';\n",
              "\n",
              "        async function convertToInteractive(key) {\n",
              "          const element = document.querySelector('#df-4a9a804b-2ae0-44ad-be24-99d02e976095');\n",
              "          const dataTable =\n",
              "            await google.colab.kernel.invokeFunction('convertToInteractive',\n",
              "                                                     [key], {});\n",
              "          if (!dataTable) return;\n",
              "\n",
              "          const docLinkHtml = 'Like what you see? Visit the ' +\n",
              "            '<a target=\"_blank\" href=https://colab.research.google.com/notebooks/data_table.ipynb>data table notebook</a>'\n",
              "            + ' to learn more about interactive tables.';\n",
              "          element.innerHTML = '';\n",
              "          dataTable['output_type'] = 'display_data';\n",
              "          await google.colab.output.renderOutput(dataTable, element);\n",
              "          const docLink = document.createElement('div');\n",
              "          docLink.innerHTML = docLinkHtml;\n",
              "          element.appendChild(docLink);\n",
              "        }\n",
              "      </script>\n",
              "    </div>\n",
              "  </div>\n",
              "  "
            ]
          },
          "metadata": {},
          "execution_count": 32
        }
      ]
    },
    {
      "cell_type": "code",
      "source": [
        "df.to_csv('my_df.csv',sep = ';')"
      ],
      "metadata": {
        "id": "QN2f894C-J56"
      },
      "execution_count": 33,
      "outputs": []
    },
    {
      "cell_type": "code",
      "source": [
        "df"
      ],
      "metadata": {
        "colab": {
          "base_uri": "https://localhost:8080/",
          "height": 424
        },
        "id": "OUNvLxsr-Mz9",
        "outputId": "367c70eb-84b1-4a5a-d5f0-6137e3f3217b"
      },
      "execution_count": 34,
      "outputs": [
        {
          "output_type": "execute_result",
          "data": {
            "text/plain": [
              "        t         s       s10         d  p\n",
              "0    0.00  0.000000       NaN       NaN  0\n",
              "1    0.02  0.019999       NaN       NaN  0\n",
              "2    0.04  0.039989       NaN       NaN  0\n",
              "3    0.06  0.059964       NaN       NaN  0\n",
              "4    0.08  0.079915       NaN       NaN  0\n",
              "..    ...       ...       ...       ... ..\n",
              "196  3.92 -0.702146 -0.546691 -0.155455  0\n",
              "197  3.94 -0.716246 -0.563327 -0.152918  0\n",
              "198  3.96 -0.730058 -0.579738 -0.150320  0\n",
              "199  3.98 -0.743579 -0.595917 -0.147662  0\n",
              "200  4.00 -0.756802 -0.611858 -0.144945  0\n",
              "\n",
              "[201 rows x 5 columns]"
            ],
            "text/html": [
              "\n",
              "  <div id=\"df-78b65b49-70ff-45fc-8270-762dac3f8f29\">\n",
              "    <div class=\"colab-df-container\">\n",
              "      <div>\n",
              "<style scoped>\n",
              "    .dataframe tbody tr th:only-of-type {\n",
              "        vertical-align: middle;\n",
              "    }\n",
              "\n",
              "    .dataframe tbody tr th {\n",
              "        vertical-align: top;\n",
              "    }\n",
              "\n",
              "    .dataframe thead th {\n",
              "        text-align: right;\n",
              "    }\n",
              "</style>\n",
              "<table border=\"1\" class=\"dataframe\">\n",
              "  <thead>\n",
              "    <tr style=\"text-align: right;\">\n",
              "      <th></th>\n",
              "      <th>t</th>\n",
              "      <th>s</th>\n",
              "      <th>s10</th>\n",
              "      <th>d</th>\n",
              "      <th>p</th>\n",
              "    </tr>\n",
              "  </thead>\n",
              "  <tbody>\n",
              "    <tr>\n",
              "      <th>0</th>\n",
              "      <td>0.00</td>\n",
              "      <td>0.000000</td>\n",
              "      <td>NaN</td>\n",
              "      <td>NaN</td>\n",
              "      <td>0</td>\n",
              "    </tr>\n",
              "    <tr>\n",
              "      <th>1</th>\n",
              "      <td>0.02</td>\n",
              "      <td>0.019999</td>\n",
              "      <td>NaN</td>\n",
              "      <td>NaN</td>\n",
              "      <td>0</td>\n",
              "    </tr>\n",
              "    <tr>\n",
              "      <th>2</th>\n",
              "      <td>0.04</td>\n",
              "      <td>0.039989</td>\n",
              "      <td>NaN</td>\n",
              "      <td>NaN</td>\n",
              "      <td>0</td>\n",
              "    </tr>\n",
              "    <tr>\n",
              "      <th>3</th>\n",
              "      <td>0.06</td>\n",
              "      <td>0.059964</td>\n",
              "      <td>NaN</td>\n",
              "      <td>NaN</td>\n",
              "      <td>0</td>\n",
              "    </tr>\n",
              "    <tr>\n",
              "      <th>4</th>\n",
              "      <td>0.08</td>\n",
              "      <td>0.079915</td>\n",
              "      <td>NaN</td>\n",
              "      <td>NaN</td>\n",
              "      <td>0</td>\n",
              "    </tr>\n",
              "    <tr>\n",
              "      <th>...</th>\n",
              "      <td>...</td>\n",
              "      <td>...</td>\n",
              "      <td>...</td>\n",
              "      <td>...</td>\n",
              "      <td>...</td>\n",
              "    </tr>\n",
              "    <tr>\n",
              "      <th>196</th>\n",
              "      <td>3.92</td>\n",
              "      <td>-0.702146</td>\n",
              "      <td>-0.546691</td>\n",
              "      <td>-0.155455</td>\n",
              "      <td>0</td>\n",
              "    </tr>\n",
              "    <tr>\n",
              "      <th>197</th>\n",
              "      <td>3.94</td>\n",
              "      <td>-0.716246</td>\n",
              "      <td>-0.563327</td>\n",
              "      <td>-0.152918</td>\n",
              "      <td>0</td>\n",
              "    </tr>\n",
              "    <tr>\n",
              "      <th>198</th>\n",
              "      <td>3.96</td>\n",
              "      <td>-0.730058</td>\n",
              "      <td>-0.579738</td>\n",
              "      <td>-0.150320</td>\n",
              "      <td>0</td>\n",
              "    </tr>\n",
              "    <tr>\n",
              "      <th>199</th>\n",
              "      <td>3.98</td>\n",
              "      <td>-0.743579</td>\n",
              "      <td>-0.595917</td>\n",
              "      <td>-0.147662</td>\n",
              "      <td>0</td>\n",
              "    </tr>\n",
              "    <tr>\n",
              "      <th>200</th>\n",
              "      <td>4.00</td>\n",
              "      <td>-0.756802</td>\n",
              "      <td>-0.611858</td>\n",
              "      <td>-0.144945</td>\n",
              "      <td>0</td>\n",
              "    </tr>\n",
              "  </tbody>\n",
              "</table>\n",
              "<p>201 rows × 5 columns</p>\n",
              "</div>\n",
              "      <button class=\"colab-df-convert\" onclick=\"convertToInteractive('df-78b65b49-70ff-45fc-8270-762dac3f8f29')\"\n",
              "              title=\"Convert this dataframe to an interactive table.\"\n",
              "              style=\"display:none;\">\n",
              "        \n",
              "  <svg xmlns=\"http://www.w3.org/2000/svg\" height=\"24px\"viewBox=\"0 0 24 24\"\n",
              "       width=\"24px\">\n",
              "    <path d=\"M0 0h24v24H0V0z\" fill=\"none\"/>\n",
              "    <path d=\"M18.56 5.44l.94 2.06.94-2.06 2.06-.94-2.06-.94-.94-2.06-.94 2.06-2.06.94zm-11 1L8.5 8.5l.94-2.06 2.06-.94-2.06-.94L8.5 2.5l-.94 2.06-2.06.94zm10 10l.94 2.06.94-2.06 2.06-.94-2.06-.94-.94-2.06-.94 2.06-2.06.94z\"/><path d=\"M17.41 7.96l-1.37-1.37c-.4-.4-.92-.59-1.43-.59-.52 0-1.04.2-1.43.59L10.3 9.45l-7.72 7.72c-.78.78-.78 2.05 0 2.83L4 21.41c.39.39.9.59 1.41.59.51 0 1.02-.2 1.41-.59l7.78-7.78 2.81-2.81c.8-.78.8-2.07 0-2.86zM5.41 20L4 18.59l7.72-7.72 1.47 1.35L5.41 20z\"/>\n",
              "  </svg>\n",
              "      </button>\n",
              "      \n",
              "  <style>\n",
              "    .colab-df-container {\n",
              "      display:flex;\n",
              "      flex-wrap:wrap;\n",
              "      gap: 12px;\n",
              "    }\n",
              "\n",
              "    .colab-df-convert {\n",
              "      background-color: #E8F0FE;\n",
              "      border: none;\n",
              "      border-radius: 50%;\n",
              "      cursor: pointer;\n",
              "      display: none;\n",
              "      fill: #1967D2;\n",
              "      height: 32px;\n",
              "      padding: 0 0 0 0;\n",
              "      width: 32px;\n",
              "    }\n",
              "\n",
              "    .colab-df-convert:hover {\n",
              "      background-color: #E2EBFA;\n",
              "      box-shadow: 0px 1px 2px rgba(60, 64, 67, 0.3), 0px 1px 3px 1px rgba(60, 64, 67, 0.15);\n",
              "      fill: #174EA6;\n",
              "    }\n",
              "\n",
              "    [theme=dark] .colab-df-convert {\n",
              "      background-color: #3B4455;\n",
              "      fill: #D2E3FC;\n",
              "    }\n",
              "\n",
              "    [theme=dark] .colab-df-convert:hover {\n",
              "      background-color: #434B5C;\n",
              "      box-shadow: 0px 1px 3px 1px rgba(0, 0, 0, 0.15);\n",
              "      filter: drop-shadow(0px 1px 2px rgba(0, 0, 0, 0.3));\n",
              "      fill: #FFFFFF;\n",
              "    }\n",
              "  </style>\n",
              "\n",
              "      <script>\n",
              "        const buttonEl =\n",
              "          document.querySelector('#df-78b65b49-70ff-45fc-8270-762dac3f8f29 button.colab-df-convert');\n",
              "        buttonEl.style.display =\n",
              "          google.colab.kernel.accessAllowed ? 'block' : 'none';\n",
              "\n",
              "        async function convertToInteractive(key) {\n",
              "          const element = document.querySelector('#df-78b65b49-70ff-45fc-8270-762dac3f8f29');\n",
              "          const dataTable =\n",
              "            await google.colab.kernel.invokeFunction('convertToInteractive',\n",
              "                                                     [key], {});\n",
              "          if (!dataTable) return;\n",
              "\n",
              "          const docLinkHtml = 'Like what you see? Visit the ' +\n",
              "            '<a target=\"_blank\" href=https://colab.research.google.com/notebooks/data_table.ipynb>data table notebook</a>'\n",
              "            + ' to learn more about interactive tables.';\n",
              "          element.innerHTML = '';\n",
              "          dataTable['output_type'] = 'display_data';\n",
              "          await google.colab.output.renderOutput(dataTable, element);\n",
              "          const docLink = document.createElement('div');\n",
              "          docLink.innerHTML = docLinkHtml;\n",
              "          element.appendChild(docLink);\n",
              "        }\n",
              "      </script>\n",
              "    </div>\n",
              "  </div>\n",
              "  "
            ]
          },
          "metadata": {},
          "execution_count": 34
        }
      ]
    },
    {
      "cell_type": "code",
      "source": [
        "df['m'] = df.groupby('p')['d'].transform('mean')\n",
        "print(df)"
      ],
      "metadata": {
        "colab": {
          "base_uri": "https://localhost:8080/"
        },
        "id": "iSlT4dpG-x-J",
        "outputId": "c0e8d2aa-89cd-4779-a4ca-b733afc99d70"
      },
      "execution_count": 35,
      "outputs": [
        {
          "output_type": "stream",
          "name": "stdout",
          "text": [
            "        t         s       s10         d  p         m\n",
            "0    0.00  0.000000       NaN       NaN  0 -0.144632\n",
            "1    0.02  0.019999       NaN       NaN  0 -0.144632\n",
            "2    0.04  0.039989       NaN       NaN  0 -0.144632\n",
            "3    0.06  0.059964       NaN       NaN  0 -0.144632\n",
            "4    0.08  0.079915       NaN       NaN  0 -0.144632\n",
            "..    ...       ...       ...       ... ..       ...\n",
            "196  3.92 -0.702146 -0.546691 -0.155455  0 -0.144632\n",
            "197  3.94 -0.716246 -0.563327 -0.152918  0 -0.144632\n",
            "198  3.96 -0.730058 -0.579738 -0.150320  0 -0.144632\n",
            "199  3.98 -0.743579 -0.595917 -0.147662  0 -0.144632\n",
            "200  4.00 -0.756802 -0.611858 -0.144945  0 -0.144632\n",
            "\n",
            "[201 rows x 6 columns]\n"
          ]
        }
      ]
    },
    {
      "cell_type": "code",
      "source": [
        "#MODIFY EACH STEP IN ORDER TO RUN COMPLETLY THE PROGRAM\n",
        "print('STEP 1')\n",
        "\n",
        "for i in range(0,11):\n",
        "  x = i\n",
        "\n",
        "print(f'x should be 10:{x}')\n",
        "if x == 10:\n",
        "    print('SUCCESS! IN STEP 1')\n",
        "print('STEP 2')\n",
        "x = False\n",
        "\n",
        "for i in range(0,11):\n",
        "    x = x or True\n",
        "    if x and  i == 5:\n",
        "        break \n",
        "    \n",
        "\n",
        "print(f'x should be True:{x}')\n",
        "print(f'i should be 5:{i}')\n",
        "if i == 5 and x:\n",
        "    print('SUCCESS! IN STEP 2')\n"
      ],
      "metadata": {
        "colab": {
          "base_uri": "https://localhost:8080/"
        },
        "id": "5kPF_IJmvo3L",
        "outputId": "7fcfdb2a-d962-4d3a-90b2-b4b83183c590"
      },
      "execution_count": 36,
      "outputs": [
        {
          "output_type": "stream",
          "name": "stdout",
          "text": [
            "STEP 1\n",
            "x should be 10:10\n",
            "SUCCESS! IN STEP 1\n",
            "STEP 2\n",
            "x should be True:True\n",
            "i should be 5:5\n",
            "SUCCESS! IN STEP 2\n"
          ]
        }
      ]
    },
    {
      "cell_type": "code",
      "source": [
        "y = 73\n",
        "for x in range (2, y):\n",
        "  if y%x == 0:\n",
        "      result = False\n",
        "      break\n",
        "if y == x + 1:\n",
        "  result = True\n",
        "print (result)"
      ],
      "metadata": {
        "colab": {
          "base_uri": "https://localhost:8080/"
        },
        "id": "63C4SZkHBwBV",
        "outputId": "43b21ccf-683a-436e-9003-b970ff61a3f5"
      },
      "execution_count": 37,
      "outputs": [
        {
          "output_type": "stream",
          "name": "stdout",
          "text": [
            "True\n"
          ]
        }
      ]
    },
    {
      "cell_type": "code",
      "source": [
        "def is_prime (y):\n",
        "  for x in range (2, y):\n",
        "    if y%x == 0:\n",
        "        result = False\n",
        "        break\n",
        "  if y == x + 1:\n",
        "    result = True\n",
        "  return result\n",
        "is_prime(5)"
      ],
      "metadata": {
        "colab": {
          "base_uri": "https://localhost:8080/"
        },
        "id": "fugrVapTB1Kg",
        "outputId": "fe27ffdb-38b8-4f86-aa45-e2a0195671fa"
      },
      "execution_count": 38,
      "outputs": [
        {
          "output_type": "execute_result",
          "data": {
            "text/plain": [
              "True"
            ]
          },
          "metadata": {},
          "execution_count": 38
        }
      ]
    },
    {
      "cell_type": "code",
      "source": [
        "contador = 0\n",
        "last_prime = 1\n",
        "next_number = 2\n",
        "print (2)\n",
        "while contador<72:\n",
        "  next_number = next_number + 1\n",
        "  if is_prime (next_number):\n",
        "    contador = contador + 1\n",
        "    last_prime = next_number \n",
        "print (last_prime) \n",
        "  \n"
      ],
      "metadata": {
        "colab": {
          "base_uri": "https://localhost:8080/"
        },
        "id": "zaL9gUg4B5km",
        "outputId": "6b9230e5-e126-4eb2-8adb-456a7c1ce96d"
      },
      "execution_count": 39,
      "outputs": [
        {
          "output_type": "stream",
          "name": "stdout",
          "text": [
            "2\n",
            "367\n"
          ]
        }
      ]
    },
    {
      "cell_type": "code",
      "source": [
        "import pandas as holaquetal\n",
        "df = holaquetal.DataFrame(data = {'col1': ['A','B','A'],'col2': [1,2,4]})\n",
        "df['media'] = df.groupby('col1')['col2'].transform('mean')\n",
        "df.size"
      ],
      "metadata": {
        "colab": {
          "base_uri": "https://localhost:8080/"
        },
        "id": "yx-30yzCB8Kg",
        "outputId": "a7bedc7b-c1eb-4182-a86d-27a497dfc30d"
      },
      "execution_count": 40,
      "outputs": [
        {
          "output_type": "execute_result",
          "data": {
            "text/plain": [
              "9"
            ]
          },
          "metadata": {},
          "execution_count": 40
        }
      ]
    }
  ]
}